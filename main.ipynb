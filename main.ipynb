{
 "cells": [
  {
   "cell_type": "markdown",
   "metadata": {},
   "source": [
    "# Retrieving Data \n",
    "\n",
    "1. The Data will be retrieved using reddit praw, the data will be found through going through reddit's 25 most popular story telling subreddits\n",
    "2. The retrieved data will include for each instance of a post: \n",
    "    - id: to keep track\n",
    "    - title: first taste of the story\n",
    "    - the story within the post: main point of analysis\n",
    "    - the time it was created: time of story post might be related to success of story\n",
    "    - the subreddit it was made within: the followers of each subreddit could cause more success\n",
    "    - number of comments: more conversation means better story\n",
    "    - upvote amount: more upvotes means better story as well\n",
    "    - upvote ratio: important to understand downvotes which a marker for poor story telling\n",
    "3. For each subreddit, we will aim towards getting 1000 posts but sometimes reddit does not allow for that amount, but it will be about 25,000 posts from 25 unique subreddits"
   ]
  },
  {
   "cell_type": "code",
   "execution_count": 12,
   "metadata": {},
   "outputs": [],
   "source": [
    "import praw\n",
    "import time\n",
    "import pandas as pd\n",
    "\n",
    "from textblob import TextBlob\n",
    "reddit = praw.Reddit(\n",
    "    client_id= input(\"Enter client_id: \"),\n",
    "    client_secret= input(\"Enter client_secret: \"),\n",
    "    user_agent=\"stories\",\n",
    ")\n"
   ]
  },
  {
   "cell_type": "code",
   "execution_count": 2,
   "metadata": {},
   "outputs": [],
   "source": [
    "subreddits = [\n",
    "    \"TIFU\", \"IAmA\", \"relationships\", \"nosleep\", \"prorevenge\",\n",
    "    \"casualconversation\", \"personalfinance\", \"confession\", \"MaliciousCompliance\",\n",
    "    \"AmItheAsshole\", \"JustNoMIL\", \"creepypasta\",\n",
    "    \"shortscarystories\", \"ScaryStories\", \"Paranormal\",\n",
    "    \"UnresolvedMysteries\", \"TalesFromRetail\", \"TalesFromTechSupport\",\n",
    "    \"TalesFromYourServer\", \"TalesFromTheFrontDesk\", \"TalesFromTheCustomer\",\n",
    "    \"TalesFromThePharmacy\", \"TalesFromThePizzaGuy\", \"TalesFromCallCenters\",\n",
    "    \"TalesFromTheSquadCar\"\n",
    "]\n",
    "\n",
    "\n",
    "attributes = [\n",
    "    'id', 'title', 'selftext', 'created_utc', 'subreddit',\n",
    "    'num_comments', 'score', 'upvote_ratio'\n",
    "]"
   ]
  },
  {
   "cell_type": "code",
   "execution_count": 3,
   "metadata": {},
   "outputs": [],
   "source": [
    "def get_data():\n",
    "    data = []\n",
    "\n",
    "    for subreddit in subreddits:\n",
    "        current = reddit.subreddit(subreddit)\n",
    "        for post in current.top(limit=1000):\n",
    "            post_data = {attr: getattr(post, attr, None) for attr in attributes}\n",
    "            data.append(post_data)\n",
    "        time.sleep(60)\n",
    "        \n",
    "    return data"
   ]
  },
  {
   "cell_type": "markdown",
   "metadata": {},
   "source": [
    "# Cleaning the Data"
   ]
  },
  {
   "cell_type": "code",
   "execution_count": 5,
   "metadata": {},
   "outputs": [],
   "source": [
    "import os\n",
    "\n",
    "if os.path.exists('stories.csv'):\n",
    "    df = pd.read_csv('stories.csv')\n",
    "else: \n",
    "    df = pd.DataFrame(get_data())\n",
    "    df.set_index('id', inplace=True)"
   ]
  },
  {
   "cell_type": "code",
   "execution_count": 14,
   "metadata": {},
   "outputs": [
    {
     "data": {
      "text/plain": [
       "{'im': 1,\n",
       " 'depressed': 1,\n",
       " 'got': 1,\n",
       " 'any': 1,\n",
       " 'slice': 1,\n",
       " 'of': 1,\n",
       " 'live/romance': 1,\n",
       " 'animes': 1,\n",
       " 'to': 1,\n",
       " 'recommend': 1}"
      ]
     },
     "execution_count": 14,
     "metadata": {},
     "output_type": "execute_result"
    }
   ],
   "source": [
    "from datetime import datetime\n",
    "from textblob import TextBlob\n",
    "import re \n",
    "import textstat\n",
    "\n",
    "def calculate_downvotes(upvotes, upvote_ratio):\n",
    "      return round(upvotes/upvote_ratio - upvotes)\n",
    "\n",
    "def convert_to_time(str):\n",
    "      return datetime.strptime(str, \"%H:%M\")\n",
    "\n",
    "def handle_date(created_time):\n",
    "      dt = datetime.fromtimestamp(created_time)\n",
    "      \n",
    "      date = f\"{str(dt.month).zfill(2)}-{str(dt.day).zfill(2)}-{dt.year}\"\n",
    "      time_of_day = convert_to_time(dt.strftime(\"%H:%M\"))\n",
    "      \n",
    "      if convert_to_time(\"00:00\") < time_of_day < convert_to_time(\"04:59\"):\n",
    "            time_of_day = \"Midnight\"\n",
    "      elif convert_to_time(\"05:00\") < time_of_day < convert_to_time(\"05:59\"):\n",
    "            time_of_day = \"Dawn\"\n",
    "      elif convert_to_time(\"06:00\") < time_of_day < convert_to_time(\"11:59\"):\n",
    "            time_of_day = \"Morning\"\n",
    "      elif convert_to_time(\"12:00\") < time_of_day < convert_to_time(\"12:59\"):\n",
    "            time_of_day = \"Noon\"\n",
    "      elif convert_to_time(\"13:00\") < time_of_day < convert_to_time(\"16:59\"):\n",
    "            time_of_day = \"Afternoon\"\n",
    "      elif convert_to_time(\"17:00\") < time_of_day < convert_to_time(\"18:59\"):\n",
    "            time_of_day = \"Evening\"\n",
    "      else:\n",
    "            time_of_day = \"Night\"\n",
    "\n",
    "      return {\"date\": date, \"time_of_day\": time_of_day}\n",
    "\n",
    "def get_word_list(str):\n",
    "      return re.findall(r\"\\b\\w[\\w'-]*\\b\", str)\n",
    "\n",
    "def get_avg_word_length(arr):\n",
    "      return round(sum(len(word) for word in arr) / len(arr), 3)\n",
    "\n",
    "def get_sentences(str):\n",
    "      return TextBlob(str).sentences\n",
    "\n",
    "def get_sentiment(str):\n",
    "      return TextBlob(str).sentiment\n",
    "\n",
    "def get_syllable_count(str):\n",
    "      return textstat.syllable_count(str)\n",
    "\n",
    "def get_reading_score(str):\n",
    "      return textstat.flesch_reading_ease(str)\n",
    "\n",
    "def get_reading_grade(str):\n",
    "      return textstat.text_standard(str)\n",
    "\n",
    "def get_keyword_counts(text):\n",
    "    blob = TextBlob(text)\n",
    "    return dict(blob.word_counts)\n",
    "\n",
    "def info(str, isTitle):\n",
    "      words = get_word_list(str)\n",
    "      name = 'title' if isTitle else 'story'\n",
    "      \n",
    "      return {\n",
    "            f'{name}_word_count': len(words),\n",
    "            f'{name}_avg_word_length': get_avg_word_length(words),\n",
    "            f'{name}_length': len(str),\n",
    "            f'{name}_polarity': round(get_sentiment(str).polarity, 3),\n",
    "            f'{name}_subjectivity': round(get_sentiment(str).subjectivity, 3), \n",
    "            f'{name}_syllables': get_syllable_count(str),\n",
    "            f'{name}_reading_score': get_reading_grade(str),\n",
    "            f'{name}_reading_grade': get_reading_grade(str),\n",
    "            f'{name}_keywords': get_keyword_counts(str)\n",
    "      }\n"
   ]
  }
 ],
 "metadata": {
  "kernelspec": {
   "display_name": "Python 3",
   "language": "python",
   "name": "python3"
  },
  "language_info": {
   "codemirror_mode": {
    "name": "ipython",
    "version": 3
   },
   "file_extension": ".py",
   "mimetype": "text/x-python",
   "name": "python",
   "nbconvert_exporter": "python",
   "pygments_lexer": "ipython3",
   "version": "3.12.1"
  }
 },
 "nbformat": 4,
 "nbformat_minor": 2
}
